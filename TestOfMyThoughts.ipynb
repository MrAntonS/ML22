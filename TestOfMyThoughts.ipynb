{
 "cells": [
  {
   "cell_type": "code",
   "execution_count": 2,
   "metadata": {},
   "outputs": [
    {
     "name": "stdout",
     "output_type": "stream",
     "text": [
      "(42000, 785)\n",
      "(10500, 784) (10500,)\n",
      "Stored 'Solving_forest' (BaggingClassifier)\n"
     ]
    }
   ],
   "source": [
    "from pandas import read_csv\n",
    "from sklearn.ensemble import BaggingClassifier\n",
    "from sklearn.linear_model import LogisticRegression\n",
    "from sklearn.metrics import auc, roc_auc_score\n",
    "from sklearn.model_selection import train_test_split\n",
    "from sklearn.pipeline import make_pipeline\n",
    "from sklearn.preprocessing import StandardScaler\n",
    "\n",
    "\n",
    "# Solving_forest = make_pipeline(\n",
    "#     StandardScaler(),\n",
    "#     LogisticRegression(C=2, max_iter=400),\n",
    "# )\n",
    "Solving_forest = BaggingClassifier()\n",
    "data = read_csv('train.csv')\n",
    "print(data.shape)\n",
    "X = data.iloc[:, 1:]\n",
    "Y = data.iloc[:, 0]\n",
    "X_train, X_test, y_train, y_test = train_test_split(X, Y, train_size=0.75)\n",
    "print(X_test.shape, y_test.shape)\n",
    "Solving_forest.fit(X_train, y_train)\n",
    "roc_auc_score(y_test, Solving_forest.predict_proba(X_test), multi_class='ovo', )\n",
    "%store Solving_forest"
   ]
  },
  {
   "cell_type": "code",
   "execution_count": 1,
   "metadata": {},
   "outputs": [],
   "source": [
    "%store -r  Solving_forest"
   ]
  },
  {
   "cell_type": "code",
   "execution_count": 11,
   "metadata": {},
   "outputs": [
    {
     "name": "stdout",
     "output_type": "stream",
     "text": [
      "[9]\n"
     ]
    },
    {
     "data": {
      "image/png": "[encoded data removed]",
      "text/plain": [
       "<Figure size 432x288 with 1 Axes>"
      ]
     },
     "metadata": {
      "needs_background": "light"
     },
     "output_type": "display_data"
    }
   ],
   "source": [
    "from random import randint\n",
    "import matplotlib.pyplot as plt\n",
    "from numpy import reshape\n",
    "from pandas import read_csv\n",
    "given_num = randint(0, data.__len__() - 1)\n",
    "X_ist = data.iloc[given_num:(given_num + 1) % len(data), 1:].copy()\n",
    "X = X_ist.iloc[0].to_numpy().copy()\n",
    "X = X != 0\n",
    "X = X.astype('int')\n",
    "X = list(map(lambda x: (255*(1-x),)*3, X))\n",
    "X = reshape(X, (28,28,3))\n",
    "imgplot = plt.imshow(X)\n",
    "# X = reshape(X, (28,28))\n",
    "# for i in X:\n",
    "#     print(''.join(i.astype('int').astype('str')))\n",
    "print(Solving_forest.predict(X_ist))\n"
   ]
  },
  {
   "cell_type": "code",
   "execution_count": 25,
   "metadata": {},
   "outputs": [
    {
     "data": {
      "text/plain": [
       "array([0.96666667, 0.96666667, 0.9       , 0.96666667, 1.        ])"
      ]
     },
     "execution_count": 25,
     "metadata": {},
     "output_type": "execute_result"
    }
   ],
   "source": [
    "from re import S\n",
    "from sklearn.ensemble import GradientBoostingClassifier\n",
    "from pandas import read_csv\n",
    "from sklearn.model_selection import cross_val_score, train_test_split\n",
    "from sklearn.metrics import make_scorer, roc_auc_score\n",
    "from sklearn.datasets import load_iris\n",
    "\n",
    "data = load_iris()\n",
    "\n",
    "X = data['data']\n",
    "Y = data['target']\n",
    "X_train, X_test, Y_train, Y_test = train_test_split(X, Y)\n",
    "cls = GradientBoostingClassifier()\n",
    "cls.fit(X_train, Y_train)\n",
    "roc_auc_score(Y_test, cls.predict_proba(X_test), multi_class='ovr')\n",
    "cross_val_score(cls, X, Y, scoring='accuracy')\n"
   ]
  },
  {
   "cell_type": "code",
   "execution_count": 227,
   "metadata": {},
   "outputs": [
    {
     "name": "stdout",
     "output_type": "stream",
     "text": [
      "[5. 6.]\n"
     ]
    },
    {
     "data": {
      "image/png": "[encoded data removed]",
      "text/plain": [
       "<Figure size 1080x576 with 1 Axes>"
      ]
     },
     "metadata": {
      "needs_background": "light"
     },
     "output_type": "display_data"
    },
    {
     "data": {
      "text/plain": [
       "2.2169210108006365e-29"
      ]
     },
     "execution_count": 227,
     "metadata": {},
     "output_type": "execute_result"
    }
   ],
   "source": [
    "import numpy as np\n",
    "import matplotlib.pyplot as plt\n",
    "from sklearn.linear_model import LinearRegression\n",
    "from sklearn.metrics import mean_absolute_error, mean_squared_error\n",
    "from sklearn.model_selection import train_test_split\n",
    "\n",
    "\n",
    "def linear_expression(x):\n",
    "    return 5 * x + 6\n",
    "\n",
    "# по признакам сгенерируем значения таргетов с некоторым шумом\n",
    "objects_num = 50\n",
    "X = np.linspace(-5, 5, objects_num)\n",
    "y = linear_expression(X) + np.random.randn(objects_num) * 0\n",
    "\n",
    "#object_num = 1000\n",
    "# X = np.linspace(-2,2,object_num)\n",
    "# np.random.seed(50)\n",
    "# y = 50 * X ** 3 + 3 * X ** 2 + 2 * X + 3 + np.random.randn(object_num)\n",
    "x = np.vander(X, 2)\n",
    "first = np.linalg.inv(np.dot(x.T, x))\n",
    "second = np.dot(x.T, y)\n",
    "res = np.dot(first, second)\n",
    "regressor = LinearRegression()\n",
    "X_train, X_test, y_train, y_test = train_test_split(X, y, test_size=0.10)\n",
    "regressor.fit(X_train.reshape(-1, 1), y_train)\n",
    "print(res)\n",
    "plt.figure(figsize=(15,8))\n",
    "plt.scatter(X, y, s=10)\n",
    "plt.plot(X, x @ res, c='red', label='Poly')\n",
    "plt.plot(X, linear_expression(X), c='blue', label='real')\n",
    "plt.plot(X, regressor.predict(X.reshape(-1, 1)), c='Black', label='Regression')\n",
    "plt.legend()\n",
    "plt.show()\n",
    "mean_squared_error(y, x @ res) - mean_squared_error(y_test, regressor.predict(X_test.reshape(-1, 1)))"
   ]
  }
 ],
 "metadata": {
  "kernelspec": {
   "display_name": "Python 3.10.5 ('venv': venv)",
   "language": "python",
   "name": "python3"
  },
  "language_info": {
   "codemirror_mode": {
    "name": "ipython",
    "version": 3
   },
   "file_extension": ".py",
   "mimetype": "text/x-python",
   "name": "python",
   "nbconvert_exporter": "python",
   "pygments_lexer": "ipython3",
   "version": "3.10.5"
  },
  "orig_nbformat": 4,
  "vscode": {
   "interpreter": {
    "hash": "3d7e0f1f5a52ecdba28e039f26482ea71aac8ba8dcfe2aeadf73ed7ce61bfd7e"
   }
  }
 },
 "nbformat": 4,
 "nbformat_minor": 2
}
