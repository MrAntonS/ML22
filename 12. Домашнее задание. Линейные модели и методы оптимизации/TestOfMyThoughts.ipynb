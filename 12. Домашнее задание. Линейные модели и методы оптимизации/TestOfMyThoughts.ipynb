{
 "cells": [
  {
   "cell_type": "code",
   "execution_count": 2,
   "metadata": {},
   "outputs": [
    {
     "name": "stdout",
     "output_type": "stream",
     "text": [
      "(42000, 785)\n",
      "(10500, 784) (10500,)\n",
      "Stored 'Solving_forest' (BaggingClassifier)\n"
     ]
    }
   ],
   "source": [
    "from pandas import read_csv\n",
    "from sklearn.ensemble import BaggingClassifier\n",
    "from sklearn.linear_model import LogisticRegression\n",
    "from sklearn.metrics import auc, roc_auc_score\n",
    "from sklearn.model_selection import train_test_split\n",
    "from sklearn.pipeline import make_pipeline\n",
    "from sklearn.preprocessing import StandardScaler\n",
    "\n",
    "\n",
    "# Solving_forest = make_pipeline(\n",
    "#     StandardScaler(),\n",
    "#     LogisticRegression(C=2, max_iter=400),\n",
    "# )\n",
    "Solving_forest = BaggingClassifier()\n",
    "data = read_csv('train.csv')\n",
    "print(data.shape)\n",
    "X = data.iloc[:, 1:]\n",
    "Y = data.iloc[:, 0]\n",
    "X_train, X_test, y_train, y_test = train_test_split(X, Y, train_size=0.75)\n",
    "print(X_test.shape, y_test.shape)\n",
    "Solving_forest.fit(X_train, y_train)\n",
    "roc_auc_score(y_test, Solving_forest.predict_proba(X_test), multi_class='ovo', )\n",
    "%store Solving_forest"
   ]
  },
  {
   "cell_type": "code",
   "execution_count": 1,
   "metadata": {},
   "outputs": [],
   "source": [
    "%store -r  Solving_forest"
   ]
  },
  {
   "cell_type": "code",
   "execution_count": 11,
   "metadata": {},
   "outputs": [
    {
     "name": "stdout",
     "output_type": "stream",
     "text": [
      "[9]\n"
     ]
    },
    {
     "data": {
      "image/png": "[encoded data removed]",
      "text/plain": [
       "<Figure size 432x288 with 1 Axes>"
      ]
     },
     "metadata": {
      "needs_background": "light"
     },
     "output_type": "display_data"
    }
   ],
   "source": [
    "from random import randint\n",
    "import matplotlib.pyplot as plt\n",
    "from numpy import reshape\n",
    "from pandas import read_csv\n",
    "given_num = randint(0, data.__len__() - 1)\n",
    "X_ist = data.iloc[given_num:(given_num + 1) % len(data), 1:].copy()\n",
    "X = X_ist.iloc[0].to_numpy().copy()\n",
    "X = X != 0\n",
    "X = X.astype('int')\n",
    "X = list(map(lambda x: (255*(1-x),)*3, X))\n",
    "X = reshape(X, (28,28,3))\n",
    "imgplot = plt.imshow(X)\n",
    "# X = reshape(X, (28,28))\n",
    "# for i in X:\n",
    "#     print(''.join(i.astype('int').astype('str')))\n",
    "print(Solving_forest.predict(X_ist))\n"
   ]
  },
  {
   "cell_type": "code",
   "execution_count": 25,
   "metadata": {},
   "outputs": [
    {
     "data": {
      "text/plain": [
       "array([0.96666667, 0.96666667, 0.9       , 0.96666667, 1.        ])"
      ]
     },
     "execution_count": 25,
     "metadata": {},
     "output_type": "execute_result"
    }
   ],
   "source": [
    "from re import S\n",
    "from sklearn.ensemble import GradientBoostingClassifier\n",
    "from pandas import read_csv\n",
    "from sklearn.model_selection import cross_val_score, train_test_split\n",
    "from sklearn.metrics import make_scorer, roc_auc_score\n",
    "from sklearn.datasets import load_iris\n",
    "\n",
    "data = load_iris()\n",
    "\n",
    "X = data['data']\n",
    "Y = data['target']\n",
    "X_train, X_test, Y_train, Y_test = train_test_split(X, Y)\n",
    "cls = GradientBoostingClassifier()\n",
    "cls.fit(X_train, Y_train)\n",
    "roc_auc_score(Y_test, cls.predict_proba(X_test), multi_class='ovr')\n",
    "cross_val_score(cls, X, Y, scoring='accuracy')\n"
   ]
  },
  {
   "cell_type": "code",
   "execution_count": null,
   "metadata": {},
   "outputs": [],
   "source": []
  }
 ],
 "metadata": {
  "kernelspec": {
   "display_name": "Python 3.10.5 ('venv': venv)",
   "language": "python",
   "name": "python3"
  },
  "language_info": {
   "codemirror_mode": {
    "name": "ipython",
    "version": 3
   },
   "file_extension": ".py",
   "mimetype": "text/x-python",
   "name": "python",
   "nbconvert_exporter": "python",
   "pygments_lexer": "ipython3",
   "version": "3.10.5"
  },
  "orig_nbformat": 4,
  "vscode": {
   "interpreter": {
    "hash": "3d7e0f1f5a52ecdba28e039f26482ea71aac8ba8dcfe2aeadf73ed7ce61bfd7e"
   }
  }
 },
 "nbformat": 4,
 "nbformat_minor": 2
}
